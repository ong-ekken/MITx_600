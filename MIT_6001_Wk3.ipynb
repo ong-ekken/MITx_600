{
  "nbformat": 4,
  "nbformat_minor": 0,
  "metadata": {
    "colab": {
      "name": "MIT_6001_Wk3.ipynb",
      "provenance": [],
      "collapsed_sections": [],
      "authorship_tag": "ABX9TyM5t3EzuqPk/QO7pCxWcjpM",
      "include_colab_link": true
    },
    "kernelspec": {
      "name": "python3",
      "display_name": "Python 3"
    }
  },
  "cells": [
    {
      "cell_type": "markdown",
      "metadata": {
        "id": "view-in-github",
        "colab_type": "text"
      },
      "source": [
        "<a href=\"https://colab.research.google.com/github/yuhchian/MITx_6001x/blob/master/MIT_6001_Wk3.ipynb\" target=\"_parent\"><img src=\"https://colab.research.google.com/assets/colab-badge.svg\" alt=\"Open In Colab\"/></a>"
      ]
    },
    {
      "cell_type": "markdown",
      "metadata": {
        "id": "ZyegLffFUoP4",
        "colab_type": "text"
      },
      "source": [
        "# MIT OCW 6.001x Week 3\n",
        "As mentioned in the course guidelines, the course is about practicing and learning. The purpose of having my own answers here is for the sake of keeping track of my own learning, and to compare my answers with other better answers out there so we can all learn.\n",
        "So, if you have not already done the problem set questions on your own, please do not read further.\n",
        "Also, the below answers have been extensively formatted and might not work on the EdX grader if copied directly."
      ]
    },
    {
      "cell_type": "markdown",
      "metadata": {
        "id": "g3Y3Q4N6U3Bf",
        "colab_type": "text"
      },
      "source": [
        "## Lecture Review Questions\n",
        "1. Python Syntax: mutation? return value?\n",
        "  - insert, append, extend\n",
        "  - remove, del, pop\n",
        "  - str, join, list, split\n",
        "  - sort, sorted, reverse\n",
        "  - range\n",
        "  - abs, int, fact, fib\n",
        "  - map, filter, reduce\n",
        "1. Mutation, aliasing, cloning\n",
        "1. Why do we need to avoid mutating a list as we iterate through it?\n",
        "1. Explain 'first class objects'.\n",
        "1. Explain 'higher order programming'.\n",
        "1. Compare str, tuple, range, list, dict.\n",
        "1. Common operations for sequences\n",
        "  - seq[i]\n",
        "  - len(seq)\n",
        "  - seq + seq\n",
        "  - seq * n\n",
        "  - seq[start:end]\n",
        "  - x in seq\n",
        "  - x not in seq\n",
        "  - for x in seq\n",
        "1. Dictionary operations\n",
        "  - .keys(), .values()\n",
        "  - assign, in, del\n",
        "1. How can we implement an efficient fibonacci number generator through using dictionaries?\n",
        "1. What are the merits and demerits of using Global Variables? How do we use it?"
      ]
    },
    {
      "cell_type": "code",
      "metadata": {
        "id": "84LUHl7vItGi",
        "colab_type": "code",
        "colab": {}
      },
      "source": [
        "# Libraries required\n",
        "from string import ascii_lowercase"
      ],
      "execution_count": 0,
      "outputs": []
    },
    {
      "cell_type": "markdown",
      "metadata": {
        "id": "rtp-LHBKU8Om",
        "colab_type": "text"
      },
      "source": [
        "### Exercise: odd tuples\n",
        "Write a procedure called oddTuples, which takes a tuple as input, and returns a new tuple as output, where every other element of the input tuple is copied, starting with the first one. So if test is the tuple ('I', 'am', 'a', 'test', 'tuple'), then evaluating oddTuples on this input would return the tuple ('I', 'a', 'tuple')."
      ]
    },
    {
      "cell_type": "code",
      "metadata": {
        "id": "sTaUcIG3VCcG",
        "colab_type": "code",
        "colab": {}
      },
      "source": [
        "def oddTuples(aTup):\n",
        "    '''\n",
        "    aTup: a tuple\n",
        "    \n",
        "    returns: tuple, every other element of aTup. \n",
        "    '''\n",
        "    return aTup[::2]"
      ],
      "execution_count": 0,
      "outputs": []
    },
    {
      "cell_type": "markdown",
      "metadata": {
        "id": "UsEPqvKRjgC2",
        "colab_type": "text"
      },
      "source": [
        "### Exercise: applyToEach -- converted to map"
      ]
    },
    {
      "cell_type": "code",
      "metadata": {
        "id": "1truSduvjgTz",
        "colab_type": "code",
        "colab": {
          "base_uri": "https://localhost:8080/",
          "height": 34
        },
        "outputId": "ba980504-c915-4442-8ea5-e2ecd5600b4f"
      },
      "source": [
        "y = list(map(lambda a: a * a, [-1, 3, -5, 7]))\n",
        "\n",
        "print(y)"
      ],
      "execution_count": 22,
      "outputs": [
        {
          "output_type": "stream",
          "text": [
            "[1, 9, 25, 49]\n"
          ],
          "name": "stdout"
        }
      ]
    },
    {
      "cell_type": "markdown",
      "metadata": {
        "id": "fybNCY5Dj-YU",
        "colab_type": "text"
      },
      "source": [
        "### Exercise: how many"
      ]
    },
    {
      "cell_type": "code",
      "metadata": {
        "id": "27UcxY3kk1C_",
        "colab_type": "code",
        "colab": {}
      },
      "source": [
        "def how_many(aDict):\n",
        "    '''\n",
        "    aDict: A dictionary, where all the values are lists.\n",
        "\n",
        "    returns: int, how many values are in the dictionary.\n",
        "    '''\n",
        "    # Your Code Here\n",
        "    count = 0\n",
        "    for index in aDict:\n",
        "        if type(aDict[index]) == list:\n",
        "            for animal in aDict[index]:\n",
        "                count += 1\n",
        "        else:\n",
        "            count += 1\n",
        "    return count"
      ],
      "execution_count": 0,
      "outputs": []
    },
    {
      "cell_type": "markdown",
      "metadata": {
        "id": "mfiZJJRmQGZ-",
        "colab_type": "text"
      },
      "source": [
        "### Exercise: biggest"
      ]
    },
    {
      "cell_type": "code",
      "metadata": {
        "id": "_FXvj4QTQGzp",
        "colab_type": "code",
        "colab": {}
      },
      "source": [
        "def biggest(aDict):\n",
        "    '''\n",
        "    aDict: A dictionary, where all the values are lists.\n",
        "\n",
        "    returns: The key with the largest number of values associated with it\n",
        "    '''\n",
        "    # Your Code Here\n",
        "    largest_key = ''\n",
        "    largest_cnt = 0\n",
        "    for index in aDict:\n",
        "        if type(aDict[index]) == list:\n",
        "            count = len(aDict[index])\n",
        "        else:\n",
        "            count = 1\n",
        "        \n",
        "        if count > largest_cnt:\n",
        "            largest = index\n",
        "    return largest"
      ],
      "execution_count": 0,
      "outputs": []
    },
    {
      "cell_type": "markdown",
      "metadata": {
        "id": "wDmc3-O-V5Nq",
        "colab_type": "text"
      },
      "source": [
        "### Problem Set 3 Problem 1"
      ]
    },
    {
      "cell_type": "code",
      "metadata": {
        "id": "8337Zn4RV5oI",
        "colab_type": "code",
        "colab": {}
      },
      "source": [
        "def isWordGuessed(secretWord, lettersGuessed):\n",
        "    '''\n",
        "    secretWord: string, the word the user is guessing\n",
        "    lettersGuessed: list, what letters have been guessed so far\n",
        "    returns: boolean, True if all the letters of secretWord are in lettersGuessed;\n",
        "      False otherwise\n",
        "    '''\n",
        "    # FILL IN YOUR CODE HERE...\n",
        "    for letter in secretWord:\n",
        "        if letter not in lettersGuessed:\n",
        "            return False\n",
        "    return True"
      ],
      "execution_count": 0,
      "outputs": []
    },
    {
      "cell_type": "markdown",
      "metadata": {
        "id": "-A6XTYqGdgT4",
        "colab_type": "text"
      },
      "source": [
        "### Problem Set 3 Problem 2"
      ]
    },
    {
      "cell_type": "code",
      "metadata": {
        "id": "Vdwk-50Adgub",
        "colab_type": "code",
        "colab": {}
      },
      "source": [
        "def getGuessedWord(secretWord, lettersGuessed):\n",
        "    '''\n",
        "    secretWord: string, the word the user is guessing\n",
        "    lettersGuessed: list, what letters have been guessed so far\n",
        "    returns: string, comprised of letters and underscores that represents\n",
        "      what letters in secretWord have been guessed so far.\n",
        "    '''\n",
        "    display = list(secretWord)\n",
        "    for index in range(len(secretWord)):\n",
        "        if secretWord[index] not in lettersGuessed:\n",
        "            display[index] = \"_\"\n",
        "    return \"\".join(display)"
      ],
      "execution_count": 0,
      "outputs": []
    },
    {
      "cell_type": "markdown",
      "metadata": {
        "id": "-91aySB1jJU9",
        "colab_type": "text"
      },
      "source": [
        "### Problem Set 3 Problem 3"
      ]
    },
    {
      "cell_type": "code",
      "metadata": {
        "id": "Wej4Rg5RjJnt",
        "colab_type": "code",
        "colab": {}
      },
      "source": [
        "def getAvailableLetters(lettersGuessed):\n",
        "    '''\n",
        "    lettersGuessed: list, what letters have been guessed so far\n",
        "    returns: string, comprised of letters that represents what letters have not\n",
        "      yet been guessed.\n",
        "    '''\n",
        "    # FILL IN YOUR CODE HERE...\n",
        "#    return ''.join([letter for letter in string.ascii_lowercase if letter not in lettersGuessed])\n",
        "    return ''.join(sorted(set(ascii_lowercase)-set(lettersGuessed)))"
      ],
      "execution_count": 0,
      "outputs": []
    },
    {
      "cell_type": "markdown",
      "metadata": {
        "id": "NPH6voRg9n6w",
        "colab_type": "text"
      },
      "source": [
        "### Problem Set 3 Problem 4"
      ]
    },
    {
      "cell_type": "code",
      "metadata": {
        "id": "VBOQcHYX9r31",
        "colab_type": "code",
        "colab": {}
      },
      "source": [
        "def hangman(secretWord):\n",
        "    '''\n",
        "    secretWord: string, the secret word to guess.\n",
        "\n",
        "    Starts up an interactive game of Hangman.\n",
        "\n",
        "    * At the start of the game, let the user know how many \n",
        "      letters the secretWord contains.\n",
        "\n",
        "    * Ask the user to supply one guess (i.e. letter) per round.\n",
        "\n",
        "    * The user should receive feedback immediately after each guess \n",
        "      about whether their guess appears in the computers word.\n",
        "\n",
        "    * After each round, you should also display to the user the \n",
        "      partially guessed word so far, as well as letters that the \n",
        "      user has not yet guessed.\n",
        "\n",
        "    Follows the other limitations detailed in the problem write-up.\n",
        "    '''\n",
        "    # FILL IN YOUR CODE HERE...\n",
        "    print(\"Welcome to the game Hangman!\")\n",
        "    print(\"I am thinking of a word that is {} letters long\".format(len(secretWord)))\n",
        "\n",
        "    ended = False\n",
        "    lettersGuessed = []\n",
        "    mistakesMade = 0\n",
        "    guessesAllowed = 8\n",
        "    \n",
        "    while not ended:\n",
        "        \n",
        "        print(\"-----------\")\n",
        "        \n",
        "        # Print number of guesses\n",
        "        print(\"You have {} guesses left\".format(guessesAllowed - mistakesMade))\n",
        "\n",
        "        # Print available letters\n",
        "        availableLetters = getAvailableLetters(lettersGuessed)\n",
        "        print(\"Available letters: \" + ''.join(availableLetters))\n",
        "        \n",
        "        # Get input from user\n",
        "        guess = input('Please guess a letter: ')\n",
        "\n",
        "        # Conditionals\n",
        "        if len(guess) != 1:                     # Invalid input\n",
        "            continue\n",
        "        elif guess not in availableLetters:     # Duplicate guess\n",
        "            print(\"Oops! You've already guessed that letter:\", getGuessedWord(secretWord, lettersGuessed))\n",
        "            continue\n",
        "        elif guess in secretWord:               # Correct guess\n",
        "            lettersGuessed.append(guess)\n",
        "            print(\"Good guess:\", getGuessedWord(secretWord, lettersGuessed))\n",
        "        else:\n",
        "            lettersGuessed.append(guess)        # Wrong guess\n",
        "            mistakesMade += 1\n",
        "            print(\"Oops! That letter is not in my word:\", getGuessedWord(secretWord, lettersGuessed))\n",
        "\n",
        "        # Tracking number of turns\n",
        "        if mistakesMade >= guessesAllowed:\n",
        "            print(\"-----------\")\n",
        "            print(\"Sorry, you ran out of guesses. The word was {}.\".format(secretWord))\n",
        "            ended = True\n",
        "\n",
        "        # Successful ending\n",
        "        if isWordGuessed(secretWord, lettersGuessed):\n",
        "            print(\"-----------\")\n",
        "            print(\"Congratulations, you won!\")\n",
        "            ended = True"
      ],
      "execution_count": 0,
      "outputs": []
    },
    {
      "cell_type": "code",
      "metadata": {
        "id": "jBnN5IHVIix9",
        "colab_type": "code",
        "colab": {
          "base_uri": "https://localhost:8080/",
          "height": 595
        },
        "outputId": "c6f04996-c109-4c90-c14a-0f98ae3714dc"
      },
      "source": [
        "hangman('kebab')"
      ],
      "execution_count": 29,
      "outputs": [
        {
          "output_type": "stream",
          "text": [
            "Welcome to the game Hangman!\n",
            "I am thinking of a word that is 5 letters long\n",
            "-----------\n",
            "You have 8 guesses left\n",
            "Available letters: abcdefghijklmnopqrstuvwxyz\n",
            "Please guess a letter: f\n",
            "Oops! That letter is not in my word: _____\n",
            "-----------\n",
            "You have 7 guesses left\n",
            "Available letters: abcdeghijklmnopqrstuvwxyz\n",
            "Please guess a letter: a\n",
            "Good guess: ___a_\n",
            "-----------\n",
            "You have 7 guesses left\n",
            "Available letters: bcdeghijklmnopqrstuvwxyz\n",
            "Please guess a letter: b\n",
            "Good guess: __bab\n",
            "-----------\n",
            "You have 7 guesses left\n",
            "Available letters: cdeghijklmnopqrstuvwxyz\n",
            "Please guess a letter: p\n",
            "Oops! That letter is not in my word: __bab\n",
            "-----------\n",
            "You have 6 guesses left\n",
            "Available letters: cdeghijklmnoqrstuvwxyz\n",
            "Please guess a letter: e\n",
            "Good guess: _ebab\n",
            "-----------\n",
            "You have 6 guesses left\n",
            "Available letters: cdghijklmnoqrstuvwxyz\n",
            "Please guess a letter: k\n",
            "Good guess: kebab\n",
            "-----------\n",
            "Congratulations, you won!\n"
          ],
          "name": "stdout"
        }
      ]
    }
  ]
}