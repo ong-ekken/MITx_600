{
  "nbformat": 4,
  "nbformat_minor": 0,
  "metadata": {
    "colab": {
      "name": "MIT_6001_Wk2.ipynb",
      "provenance": [],
      "collapsed_sections": [],
      "authorship_tag": "ABX9TyNshDwZXDyq7eMhHXOtA1OM",
      "include_colab_link": true
    },
    "kernelspec": {
      "name": "python3",
      "display_name": "Python 3"
    }
  },
  "cells": [
    {
      "cell_type": "markdown",
      "metadata": {
        "id": "view-in-github",
        "colab_type": "text"
      },
      "source": [
        "<a href=\"https://colab.research.google.com/github/yuhchian/MITx_6001x/blob/master/MIT_6001_Wk3.ipynb\" target=\"_parent\"><img src=\"https://colab.research.google.com/assets/colab-badge.svg\" alt=\"Open In Colab\"/></a>"
      ]
    },
    {
      "cell_type": "markdown",
      "metadata": {
        "id": "ZyegLffFUoP4",
        "colab_type": "text"
      },
      "source": [
        "# MIT OCW 6.001x\n",
        "As mentioned in the course guidelines, the course is about practicing and learning. The purpose of having my own answers here is for the sake of keeping track of my own learning, and to compare my answers with other better answers out there so we can all learn.\n",
        "So, if you have not already done the problem set questions on your own, please do not read further.\n",
        "Also, the below answers have been extensively formatted and might not work on the EdX grader if copied directly."
      ]
    },
    {
      "cell_type": "markdown",
      "metadata": {
        "id": "g3Y3Q4N6U3Bf",
        "colab_type": "text"
      },
      "source": [
        "## Lecture Review Questions\n",
        "1. Explain the Newton-Rhapson method.\n",
        "1. Compare the 3 types of algorithms - guess and check, bisection search, and Newton-Rhapson.\n",
        "1. Explain decomposition (modularity) and abstraction.\n",
        "1. Explain all the components of defining a function - function name, parameters (arguments), docstring, return...\n",
        "1. Explain global frame (scope), local frame (scope), and unbound variable error.\n",
        "1. Explain keyword arguments and default values. \n",
        "1. Explain specifications (docstring) and the concepts of contract, assumptions, and guarantees.\n",
        "1. Explain what happens when you define a function inside a function. \n",
        "```\n",
        ">>> x = 12\n",
        ">>> def g(x):\n",
        "      x = x + 1\n",
        "      def h(y):\n",
        "          return x + y\n",
        "      return h(6)\n",
        ">>> g(x)\n",
        "```\n",
        "\n",
        "1. Explain what happens in the following code. \n",
        "```\n",
        ">>> a = 10\n",
        ">>> def f(x):\n",
        "      return x + a\n",
        ">>> a = 3\n",
        ">>> f(1)\n",
        "```\n",
        "1. If s is a string, explain the difference between s.upper and s.upper(). \n",
        "1. Explain recursion versus iteration. (explain the background scopes as well)\n",
        "1. Explain inductive proofs and how this relates to recursion.\n",
        "1. Explain how modules work. How can I call constants without making it clunky?\n",
        "1. Explain how to open files and how to write into them, then close them.\n",
        "\n",
        "  \n"
      ]
    },
    {
      "cell_type": "markdown",
      "metadata": {
        "id": "rtp-LHBKU8Om",
        "colab_type": "text"
      },
      "source": [
        "### Exercise Square"
      ]
    },
    {
      "cell_type": "code",
      "metadata": {
        "id": "sTaUcIG3VCcG",
        "colab_type": "code",
        "colab": {}
      },
      "source": [
        "def square(x):\n",
        "    '''\n",
        "    x: int or float.\n",
        "    '''\n",
        "    return x * x\n"
      ],
      "execution_count": 0,
      "outputs": []
    },
    {
      "cell_type": "markdown",
      "metadata": {
        "id": "UsEPqvKRjgC2",
        "colab_type": "text"
      },
      "source": [
        "### Exercise Eval Quadratic"
      ]
    },
    {
      "cell_type": "code",
      "metadata": {
        "id": "1truSduvjgTz",
        "colab_type": "code",
        "colab": {}
      },
      "source": [
        "def evalQuadratic(a, b, c, x):\n",
        "    '''\n",
        "    a, b, c: numerical values for the coefficients of a quadratic equation\n",
        "    x: numerical value at which to evaluate the quadratic.\n",
        "    '''\n",
        "    return a * x * x + b * x + c"
      ],
      "execution_count": 0,
      "outputs": []
    },
    {
      "cell_type": "markdown",
      "metadata": {
        "id": "fybNCY5Dj-YU",
        "colab_type": "text"
      },
      "source": [
        "### Exercise: is in"
      ]
    },
    {
      "cell_type": "code",
      "metadata": {
        "id": "27UcxY3kk1C_",
        "colab_type": "code",
        "colab": {}
      },
      "source": [
        "def isIn(char, aStr):\n",
        "    '''\n",
        "    char: a single character\n",
        "    aStr: an alphabetized string\n",
        "    \n",
        "    returns: True if char is in aStr; False otherwise\n",
        "    '''\n",
        "    # Your code here\n",
        "    middle = len(aStr) // 2\n",
        "    \n",
        "    if len(aStr) <= 1:\n",
        "        return False\n",
        "    elif char == aStr[middle]:\n",
        "        return True\n",
        "    elif char < aStr[middle]:\n",
        "        return isIn(char, aStr[:middle])\n",
        "    else:\n",
        "        return isIn(char, aStr[middle+1:])\n"
      ],
      "execution_count": 0,
      "outputs": []
    },
    {
      "cell_type": "markdown",
      "metadata": {
        "id": "x2PjtZVTOde_",
        "colab_type": "text"
      },
      "source": [
        "### Programming Experience: Polysum"
      ]
    },
    {
      "cell_type": "code",
      "metadata": {
        "id": "J4jXNg0iOkFm",
        "colab_type": "code",
        "colab": {}
      },
      "source": [
        "from math import tan, pi\n",
        "\n",
        "def polysum(n, s):\n",
        "    area = 0.25 * n * s * s / (tan(pi/n))\n",
        "    perimeter = n * s\n",
        "    return round(area + perimeter * perimeter, 4)\n",
        " "
      ],
      "execution_count": 0,
      "outputs": []
    },
    {
      "cell_type": "markdown",
      "metadata": {
        "id": "mfiZJJRmQGZ-",
        "colab_type": "text"
      },
      "source": [
        "### Programming Experience: Polysum for readability"
      ]
    },
    {
      "cell_type": "code",
      "metadata": {
        "id": "_FXvj4QTQGzp",
        "colab_type": "code",
        "colab": {}
      },
      "source": [
        "# For MIT6.001x Week 2 Assignment\n",
        "\n",
        "# Import tangent function and pi value\n",
        "from math import tan, pi\n",
        "\n",
        "def polysum(n, s):\n",
        "    \"\"\"\n",
        "    Description:\n",
        "        polysum adds the following and returns the sum:\n",
        "        - area of a regular polygon with n sides\n",
        "        - square of the perimeter of the same polygon\n",
        "\n",
        "    Args:\n",
        "        n: number of sides of the regular polygon\n",
        "        s: length of each side\n",
        "\n",
        "    Returns:\n",
        "        Float of 4 decimal places.\n",
        "    \"\"\"\n",
        "\n",
        "    # Area of the regular polygon as defined by formula\n",
        "    area = 0.25 * n * s * s / (tan(pi/n))\n",
        "\n",
        "    # Perimeter is n sides times length s\n",
        "    perimeter = n * s\n",
        "    perimeter2 = perimeter * perimeter\n",
        "\n",
        "    # Return 4 decimal places\n",
        "    return round(area + perimeter2, 4)\n"
      ],
      "execution_count": 0,
      "outputs": []
    },
    {
      "cell_type": "markdown",
      "metadata": {
        "id": "wDmc3-O-V5Nq",
        "colab_type": "text"
      },
      "source": [
        "### Problem Set 2 Problem 1"
      ]
    },
    {
      "cell_type": "code",
      "metadata": {
        "id": "8337Zn4RV5oI",
        "colab_type": "code",
        "outputId": "18b807e2-93c3-4040-d8ec-aaacabd1d91f",
        "colab": {
          "base_uri": "https://localhost:8080/",
          "height": 34
        }
      },
      "source": [
        "# Paste your code into this box\n",
        "\n",
        "balance = 42\n",
        "annualInterestRate = 0.2\n",
        "monthlyPaymentRate = 0.04\n",
        "months = 12\n",
        "\n",
        "\n",
        "def loan(balance, annualInterestRate, monthlyPaymentRate, months=12):\n",
        "    \n",
        "    if months == 0:\n",
        "        return balance\n",
        "    else:\n",
        "        uB = balance * (1 - monthlyPaymentRate)\n",
        "        uBi = uB * (1 + annualInterestRate/12)\n",
        "        return loan(uBi, annualInterestRate, monthlyPaymentRate, months-1)\n",
        "\n",
        "output = loan(balance, annualInterestRate, monthlyPaymentRate, months)\n",
        "print(\"Remaining balance: {:.2f}\".format(output))"
      ],
      "execution_count": 0,
      "outputs": [
        {
          "output_type": "stream",
          "text": [
            "Remaining balance: 31.38\n"
          ],
          "name": "stdout"
        }
      ]
    },
    {
      "cell_type": "markdown",
      "metadata": {
        "id": "-A6XTYqGdgT4",
        "colab_type": "text"
      },
      "source": [
        "### Problem Set 2 Problem 2"
      ]
    },
    {
      "cell_type": "code",
      "metadata": {
        "id": "Vdwk-50Adgub",
        "colab_type": "code",
        "outputId": "156a5cbb-07c2-40fb-834b-918ee8462e60",
        "colab": {
          "base_uri": "https://localhost:8080/",
          "height": 85
        }
      },
      "source": [
        "# Paste your code into this box\n",
        "\n",
        "balance = 3329\n",
        "annualInterestRate = 0.2\n",
        "\n",
        "def repayment(balance, annualInterestRate, months=12):\n",
        "    \n",
        "    monthlyPayment = int(round(balance / 12, -1))\n",
        "\n",
        "    def loan(balance, annualInterestRate, monthlyPayment, months=12):\n",
        "        if months == 0:\n",
        "            return balance\n",
        "        else:\n",
        "            uB = balance - monthlyPayment\n",
        "            uBi = uB * (1 + annualInterestRate/12)\n",
        "            return loan(uBi, annualInterestRate, monthlyPayment, months-1)\n",
        "    \n",
        "    while loan(balance, annualInterestRate, monthlyPayment) > 0:\n",
        "        monthlyPayment += 10\n",
        "    \n",
        "    return monthlyPayment\n",
        "\n",
        "output = repayment(balance, annualInterestRate)\n",
        "print(\"Lowest Payment: {:2d}\".format(output))\n",
        "\n"
      ],
      "execution_count": 0,
      "outputs": [
        {
          "output_type": "stream",
          "text": [
            "Increasing payment amount to 290\n",
            "Increasing payment amount to 300\n",
            "Increasing payment amount to 310\n",
            "Lowest Payment: 310\n"
          ],
          "name": "stdout"
        }
      ]
    },
    {
      "cell_type": "markdown",
      "metadata": {
        "id": "-91aySB1jJU9",
        "colab_type": "text"
      },
      "source": [
        "### Problem Set 2 Problem 3"
      ]
    },
    {
      "cell_type": "code",
      "metadata": {
        "id": "Wej4Rg5RjJnt",
        "colab_type": "code",
        "outputId": "b9517c21-348d-458d-d290-ef3f2408d261",
        "colab": {
          "base_uri": "https://localhost:8080/",
          "height": 391
        }
      },
      "source": [
        "#Test Case 1:\n",
        "balance = 320000\n",
        "annualInterestRate = 0.2\n",
        "\n",
        "#balance = 999999\n",
        "#annualInterestRate = 0.18\n",
        "\n",
        "# Paste your code into this box\n",
        "def repayment(balance, annualInterestRate, months=12):\n",
        "    \n",
        "    def loan(balance, annualInterestRate, monthlyPayment, months=12):\n",
        "        if months == 0:\n",
        "            return balance\n",
        "        else:\n",
        "            uB = balance - monthlyPayment\n",
        "            uBi = uB * (1 + annualInterestRate / 12)\n",
        "            return loan(uBi, annualInterestRate, monthlyPayment, months-1)\n",
        "    \n",
        "    upper = loan(balance, annualInterestRate, monthlyPayment = 0) / 12\n",
        "    lower = balance / 12\n",
        "    \n",
        "    payment = (upper + lower) / 2\n",
        "    \n",
        "    residual = loan(balance, annualInterestRate, payment)\n",
        "    \n",
        "    while residual > 0.01 or residual < -0.01:\n",
        "        if residual > 0:\n",
        "            lower = payment\n",
        "        else:\n",
        "            upper = payment\n",
        "        \n",
        "        payment = (lower + upper) / 2\n",
        "        \n",
        "        residual = loan(balance, annualInterestRate, payment)\n",
        "\n",
        "        print(residual)\n",
        "    \n",
        "    return payment\n",
        "\n",
        "output = repayment(balance, annualInterestRate)\n",
        "print(\"Lowest Payment: {:.2f}\".format(output))\n",
        "\n",
        "\n"
      ],
      "execution_count": 0,
      "outputs": [
        {
          "output_type": "stream",
          "text": [
            "13755.120148565638\n",
            "3968.1890276002614\n",
            "-925.2765328822256\n",
            "1521.4562473590383\n",
            "298.08985723843773\n",
            "-313.5933378219088\n",
            "-7.751740291705937\n",
            "145.16905847336218\n",
            "68.70865909071532\n",
            "30.478459399519487\n",
            "11.363359553884584\n",
            "1.8058096311374052\n",
            "-2.972965330262074\n",
            "-0.5835778496973337\n",
            "0.6111158908513364\n",
            "0.013769020490083978\n",
            "-0.284904414574036\n",
            "-0.13556769687553846\n",
            "-0.060899338120604316\n",
            "-0.02356515884669837\n",
            "-0.004898069252279431\n",
            "Lowest Payment: 29157.09\n"
          ],
          "name": "stdout"
        }
      ]
    }
  ]
}