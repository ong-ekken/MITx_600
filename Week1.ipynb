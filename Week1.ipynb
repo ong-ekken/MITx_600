{
 "cells": [
  {
   "cell_type": "markdown",
   "metadata": {},
   "source": [
    "# MIT OCW 6.001x \n",
    "\n",
    "As mentioned in the course guidelines, the course is about practicing and learning. The purpose of having my own answers here is for the sake of keeping track of my own learning, and to compare my answers with other better answers out there so we can all learn.\n",
    "\n",
    "So, if you have not already done the problem set questions on your own, please do not read further."
   ]
  },
  {
   "cell_type": "markdown",
   "metadata": {},
   "source": [
    "## Lecture Summary"
   ]
  },
  {
   "cell_type": "markdown",
   "metadata": {},
   "source": [
    "1. (Introduction) What is computational learning and why learn it?\n",
    "1. (Knowledge) What is the difference between Declarative and Imperative knowledge?\n",
    "1. (Machines) Explain basic computer architecture, and Turing Machines (Turing Complete).\n",
    "1. (Language) Explain syntax, static semantics, and semantics, and their corresponding errors.\n",
    "1. (Types) Name and explain basic data object types, operators (including order of precedence), and casting.\n",
    "1. (Operators and Branching) Is it possible to use if AND elif without ending with else? Explain situations where branching will not run.\n",
    "1. (Bindings) Name and explain all keywords.\n",
    "1. (Strings) Name and explain all string-related functions and methods. Why is it important to copy a string using slicing instead of just assigning?\n",
    "1. (Input/Output) Compare and explain the different ways of input and output.\n",
    "1. (Control Flow) Compare and explain loops (for, while, do while) and the escape mechanisms (continue, break).\n",
    "1. (Control Flow) Name and explain Truthy or Falsy values.\n",
    "1. How to test dat types?\n",
    "1. (Iteration) Explain namespace.\n",
    "1. (Guess and Check) Explain Guess and Check.\n"
   ]
  },
  {
   "cell_type": "markdown",
   "metadata": {},
   "source": [
    "## Problem Set 1"
   ]
  },
  {
   "cell_type": "markdown",
   "metadata": {},
   "source": [
    "### Problem 1\n",
    "Assume s is a string of lower case characters. Write a program that counts up the number of vowels contained in the string s. Valid vowels are: 'a', 'e', 'i', 'o', and 'u'. For example, if s = 'azcbobobegghakl', your program should print:\n",
    "\n",
    "` Number of vowels: 5 `"
   ]
  },
  {
   "cell_type": "code",
   "execution_count": 19,
   "metadata": {},
   "outputs": [
    {
     "name": "stdout",
     "output_type": "stream",
     "text": [
      "Number of vowels in azcbobobegghakl     : 5\n",
      "Number of vowels in a                   : 1\n",
      "Number of vowels in v                   : 0\n",
      "Number of vowels in kku                 : 1\n"
     ]
    }
   ],
   "source": [
    "test = [\n",
    "    'azcbobobegghakl',\n",
    "    'a',\n",
    "    'v',\n",
    "    'kku']\n",
    "\n",
    "# List of all vowels in a string\n",
    "VOWELS = 'aeiou'\n",
    "\n",
    "# Loop through all test input\n",
    "for s in test:\n",
    "    vowel_count = 0    # Reset the counter\n",
    "    for _ in s:        # Loop through each letter\n",
    "        vowel_count += _ in VOWELS  \n",
    "    print(\"Number of vowels in {0}: {1}\".format(s.ljust(20, ' '), vowel_count))   # ljust method to add padding"
   ]
  },
  {
   "cell_type": "markdown",
   "metadata": {},
   "source": [
    "### Problem 2\n",
    "Assume s is a string of lower case characters.\n",
    "\n",
    "Write a program that prints the number of times the string 'bob' occurs in s. For example, if s = 'azcbobobegghakl', then your program should print\n",
    "` Number of times bob occurs is: 2 `"
   ]
  },
  {
   "cell_type": "code",
   "execution_count": 20,
   "metadata": {},
   "outputs": [
    {
     "name": "stdout",
     "output_type": "stream",
     "text": [
      "Number of 'bob' in azcbobobegbobghl    : 3\n",
      "Number of 'bob' in abob                : 1\n",
      "Number of 'bob' in bobobobobv          : 4\n",
      "Number of 'bob' in kku                 : 0\n"
     ]
    }
   ],
   "source": [
    "test = [\n",
    "    'azcbobobegbobghl',\n",
    "    'abob',\n",
    "    'bobobobobv',\n",
    "    'kku']\n",
    "\n",
    "TARGET = 'bob'\n",
    "\n",
    "# Loop through all test input\n",
    "for s in test:\n",
    "    match_count = 0   # length of string to find\n",
    "    target_len = len(TARGET)   # length of string to find\n",
    "    if len(s) < target_len:\n",
    "        continue\n",
    "    for n in range(len(s) - target_len + 1):        # Loop through each letter\n",
    "        match_count += s[n:n+target_len] == 'bob'\n",
    "    print(\"Number of 'bob' in {0}: {1}\".format(s.ljust(20, ' '), match_count))   # ljust method to add padding"
   ]
  },
  {
   "cell_type": "markdown",
   "metadata": {},
   "source": [
    "### Problem 3\n",
    "\n",
    "Assume s is a string of lower case characters.\n",
    "\n",
    "Write a program that prints the longest substring of s in which the letters occur in alphabetical order. For example, if s = 'azcbobobegghakl', then your program should print\n",
    "\n",
    "` Longest substring in alphabetical order is: beggh `\n",
    "\n",
    "In the case of ties, print the first substring. For example, if s = 'abcbcd', then your program should print\n",
    "\n",
    "` Longest substring in alphabetical order is: abc `\n",
    "\n",
    "Note: This problem may be challenging. We encourage you to work smart. If you've spent more than a few hours on this problem, we suggest that you move on to a different part of the course. If you have time, come back to this problem after you've had a break and cleared your head."
   ]
  },
  {
   "cell_type": "code",
   "execution_count": 47,
   "metadata": {},
   "outputs": [
    {
     "name": "stdout",
     "output_type": "stream",
     "text": [
      "Longest substring in alphabetical order in abcdabobegbobghl : abcd\n",
      "Longest substring in alphabetical order in zxgb : Does not exist\n",
      "Longest substring in alphabetical order in bobazmhfdazbobv : bo\n",
      "Longest substring in alphabetical order in kjkl : jkl\n"
     ]
    }
   ],
   "source": [
    "test = [\n",
    "    'abcdabobegbobghl', #starts with a chain, ties with end\n",
    "    'zxgb',             #has no chain\n",
    "    'bobazmhfdazbobv', #has a chain of 2 letters\n",
    "    'kjkl']\n",
    "\n",
    "# Loop through all test input\n",
    "for s in test:\n",
    "    longest = \"\"\n",
    "    running_seq = s[0]   # length of string to find\n",
    "    for _ in s[1:]:      # Loop through each letter\n",
    "        running_seq = (running_seq + _) if (_ >= running_seq[-1]) else _ \n",
    "        if len(running_seq) > 1 and len(running_seq) > len(longest):\n",
    "            longest = running_seq\n",
    "    if longest == \"\":\n",
    "        longest = \"Does not exist\" \n",
    "    print(\"Longest substring in alphabetical order in {0} : {1}\".format(s, longest))   # ljust method to add padding"
   ]
  }
 ],
 "metadata": {
  "kernelspec": {
   "display_name": "Python 3",
   "language": "python",
   "name": "python3"
  },
  "language_info": {
   "codemirror_mode": {
    "name": "ipython",
    "version": 3
   },
   "file_extension": ".py",
   "mimetype": "text/x-python",
   "name": "python",
   "nbconvert_exporter": "python",
   "pygments_lexer": "ipython3",
   "version": "3.7.4"
  }
 },
 "nbformat": 4,
 "nbformat_minor": 2
}
