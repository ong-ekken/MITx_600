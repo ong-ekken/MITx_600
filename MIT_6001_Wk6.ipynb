{
  "nbformat": 4,
  "nbformat_minor": 0,
  "metadata": {
    "colab": {
      "name": "MIT_6001_Wk6.ipynb",
      "provenance": [],
      "collapsed_sections": [],
      "toc_visible": true,
      "authorship_tag": "ABX9TyNFoAaYcBGjGB4HDOrQ/beS",
      "include_colab_link": true
    },
    "kernelspec": {
      "name": "python3",
      "display_name": "Python 3"
    }
  },
  "cells": [
    {
      "cell_type": "markdown",
      "metadata": {
        "id": "view-in-github",
        "colab_type": "text"
      },
      "source": [
        "<a href=\"https://colab.research.google.com/github/yuhchian/MITx_6001x/blob/master/MIT_6001_Wk6.ipynb\" target=\"_parent\"><img src=\"https://colab.research.google.com/assets/colab-badge.svg\" alt=\"Open In Colab\"/></a>"
      ]
    },
    {
      "cell_type": "markdown",
      "metadata": {
        "id": "ZyegLffFUoP4",
        "colab_type": "text"
      },
      "source": [
        "# MIT OCW 6.001x Week 6\n",
        "\n",
        "These notebooks are intended for the purpose of:\n",
        "- keeping track of my own learning\n",
        "- serving as part of my portfolio \n",
        "- learning with others that already COMPLETED MIT6.001\n",
        "\n",
        "As mentioned in course guidelines, learning programming and computer science is about hands-on practicing. So if you are reading this purely so you can copy answers for assignments, please turn back now. This will not serve you well. \n",
        "\n",
        "Further disclaimer: code below may be formatted and thus may not work directly on the EdX grader."
      ]
    },
    {
      "cell_type": "markdown",
      "metadata": {
        "id": "qKRfERr2fElF",
        "colab_type": "text"
      },
      "source": [
        "## Lecture Review Notes\n",
        "\n",
        "1. Why do we not use time or number of steps to measure efficiency of a program? What do we use instead?\n",
        "1. Why do we rely on the worst case (in terms of running time) instead of the best case or average case?\n",
        "1. What are the 6 classes of algorithm complexity? Which are the most desirable ones? Give an example of each class.\n",
        "1. What are the largest and smallest number of operations carried out in the following code?\n",
        "```\n",
        "def program3(L):\n",
        "    totalSum = 0\n",
        "    highestFound = None\n",
        "    for x in L:\n",
        "        totalSum += x\n",
        "\n",
        "    for x in L:\n",
        "        if highestFound == None:\n",
        "            highestFound = x\n",
        "        elif x > highestFound:\n",
        "            highestFound = x\n",
        "\n",
        "    return (totalSum, highestFound)\n",
        "```\n",
        "1. Explain the concept of Big-O Notation. What does it measure? \n",
        "1. Explain the combination of complexity classes -- which laws are adhered to? How is it finally reduced to the \"dominant term\"?\n",
        "1. Why do we know accessing a piece of data in linear search will take linear time?\n",
        "1. How can we implement bisection search? Why shouldn't we copy the new half of the list at each iteration? Instead, how should we do it?\n",
        "\n"
      ]
    }
  ]
}