{
  "nbformat": 4,
  "nbformat_minor": 0,
  "metadata": {
    "colab": {
      "name": "MIT_6002_Wk1.ipynb",
      "provenance": [],
      "collapsed_sections": [],
      "toc_visible": true,
      "authorship_tag": "ABX9TyMkuv8MLSGEmNbt0AGSvduA",
      "include_colab_link": true
    },
    "kernelspec": {
      "name": "python3",
      "display_name": "Python 3"
    }
  },
  "cells": [
    {
      "cell_type": "markdown",
      "metadata": {
        "id": "view-in-github",
        "colab_type": "text"
      },
      "source": [
        "<a href=\"https://colab.research.google.com/github/yuhchian/MITx_600/blob/master/MIT_6002_Wk1.ipynb\" target=\"_parent\"><img src=\"https://colab.research.google.com/assets/colab-badge.svg\" alt=\"Open In Colab\"/></a>"
      ]
    },
    {
      "cell_type": "markdown",
      "metadata": {
        "id": "ZyegLffFUoP4",
        "colab_type": "text"
      },
      "source": [
        "# MIT OCW 6.00.2x Week 1\n",
        "\n",
        "These notebooks are intended for the purpose of:\n",
        "- keeping track of my own learning\n",
        "- serving as part of my portfolio \n",
        "- learning with others that already COMPLETED below-mentioned content and exercises\n",
        "\n",
        "As mentioned in course guidelines, learning programming and computer science is about hands-on practicing. So if you are reading this purely so you can copy answers for assignments, please turn back now. This will not serve you well. \n",
        "\n",
        "Further disclaimer: code below may be formatted and thus may not work directly on the EdX grader."
      ]
    },
    {
      "cell_type": "markdown",
      "metadata": {
        "id": "qKRfERr2fElF",
        "colab_type": "text"
      },
      "source": [
        "## Lecture 1 Review Notes\n",
        "## Optimization and Knapsack Problem\n",
        "\n",
        "1. What are the two parts of a classic optimization problem?\n",
        "1. Why is the 0-1 Knapsack problem so much harder than the fractional/continuous knapsack problem?\n",
        "1. Explain why we should not solve knapsack problems using simple brute-force methods.\n",
        "1. Explain Greedy Algorithms. What is the algorithmic complexity when applied to knapsack problems, and why is it not optimal?\n",
        "1. Explain the parameter known as \"key function\".\n",
        "1. Explain how to use Lamda expressions.\n"
      ]
    },
    {
      "cell_type": "markdown",
      "metadata": {
        "id": "qkXMkoNvWZ5M",
        "colab_type": "text"
      },
      "source": [
        "## Lecture 2 Review Notes\n",
        "## Decision Trees and Dynamic Programming\n",
        "\n",
        "1. Explain decision trees / search trees. How are they built, and how do they help solve the knapsack problem?\n",
        "1. Explain Dynamic Programming and memorization, and write a program utilising this method to generate 120 Fibonacci numbers within reasonable time.\n",
        "1. What are the two conditions required for Dynamic Programming to work?\n",
        "1. Why would some say Dynamic Programming works well only for Knapsacks with duplicated items, and why would that assumption be wrong?\n"
      ]
    },
    {
      "cell_type": "markdown",
      "metadata": {
        "id": "_4kG2oVmaVIF",
        "colab_type": "text"
      },
      "source": [
        "## Lecture 3 Review Notes\n",
        "## Graph Problems\n",
        "\n",
        "1. Elaborate on the components of Graphs.\n",
        "1. Build a travel representation by creating a Graph Class.\n",
        "1. Build and compare breadth-first search (BFS) and depth-first search (DFS)."
      ]
    },
    {
      "cell_type": "markdown",
      "metadata": {
        "id": "Er6nQ3-Gi96-",
        "colab_type": "text"
      },
      "source": [
        "# Problem Set 1"
      ]
    },
    {
      "cell_type": "code",
      "metadata": {
        "id": "k9ptTKAKjBOR",
        "colab_type": "code",
        "colab": {}
      },
      "source": [
        ""
      ],
      "execution_count": 0,
      "outputs": []
    },
    {
      "cell_type": "code",
      "metadata": {
        "id": "Rf0ygZd1jCvl",
        "colab_type": "code",
        "colab": {}
      },
      "source": [
        ""
      ],
      "execution_count": 0,
      "outputs": []
    },
    {
      "cell_type": "code",
      "metadata": {
        "id": "FTye1JPujCf_",
        "colab_type": "code",
        "colab": {}
      },
      "source": [
        ""
      ],
      "execution_count": 0,
      "outputs": []
    }
  ]
}