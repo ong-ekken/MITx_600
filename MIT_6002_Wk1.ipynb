{
  "nbformat": 4,
  "nbformat_minor": 0,
  "metadata": {
    "colab": {
      "name": "MIT_6002_Wk1.ipynb",
      "provenance": [],
      "collapsed_sections": [],
      "toc_visible": true,
      "authorship_tag": "ABX9TyMMdzVqzgs42xJfJ2+5HsF9",
      "include_colab_link": true
    },
    "kernelspec": {
      "name": "python3",
      "display_name": "Python 3"
    }
  },
  "cells": [
    {
      "cell_type": "markdown",
      "metadata": {
        "id": "view-in-github",
        "colab_type": "text"
      },
      "source": [
        "<a href=\"https://colab.research.google.com/github/yuhchian/MITx_600/blob/master/MIT_6002_Wk1.ipynb\" target=\"_parent\"><img src=\"https://colab.research.google.com/assets/colab-badge.svg\" alt=\"Open In Colab\"/></a>"
      ]
    },
    {
      "cell_type": "markdown",
      "metadata": {
        "id": "ZyegLffFUoP4",
        "colab_type": "text"
      },
      "source": [
        "# MIT OCW 6.00.2x Week 1\n",
        "\n",
        "These notebooks are intended for the purpose of:\n",
        "- keeping track of my own learning\n",
        "- serving as part of my portfolio \n",
        "- learning with others that already COMPLETED below-mentioned content and exercises\n",
        "\n",
        "As mentioned in course guidelines, learning programming and computer science is about hands-on practicing. So if you are reading this purely so you can copy answers for assignments, please turn back now. This will not serve you well. \n",
        "\n",
        "Further disclaimer: code below may be formatted and thus may not work directly on the EdX grader."
      ]
    },
    {
      "cell_type": "markdown",
      "metadata": {
        "id": "qKRfERr2fElF",
        "colab_type": "text"
      },
      "source": [
        "## Lecture 1 Review Notes\n",
        "## Optimization and Knapsack Problem\n",
        "\n",
        "1. What are the two parts of a classic optimization problem?\n",
        "1. Why is the 0-1 Knapsack problem so much harder than the fractional/continuous knapsack problem?\n",
        "1. Explain why we should not solve knapsack problems using simple brute-force methods.\n",
        "1. Explain Greedy Algorithms. What is the algorithmic complexity when applied to knapsack problems, and why is it not optimal?\n",
        "1. Explain the parameter known as \"key function\".\n",
        "1. Explain how to use Lamda expressions.\n"
      ]
    },
    {
      "cell_type": "markdown",
      "metadata": {
        "id": "qkXMkoNvWZ5M",
        "colab_type": "text"
      },
      "source": [
        "## Lecture 2 Review Notes\n",
        "## Decision Trees and Dynamic Programming\n",
        "\n",
        "1. Explain decision trees / search trees. How are they built, and how do they help solve the knapsack problem?\n",
        "1. Explain Dynamic Programming and memorization, and write a program utilising this method to generate 120 Fibonacci numbers within reasonable time.\n",
        "1. What are the two conditions required for Dynamic Programming to work?\n",
        "1. Why would some say Dynamic Programming works well only for Knapsacks with duplicated items, and why would that assumption be wrong?\n"
      ]
    },
    {
      "cell_type": "markdown",
      "metadata": {
        "id": "_4kG2oVmaVIF",
        "colab_type": "text"
      },
      "source": [
        "## Lecture 3 Review Notes\n",
        "## Graph Problems\n",
        "\n",
        "1. Elaborate on the components of Graphs.\n",
        "1. Build a travel representation by creating a Graph Class.\n",
        "1. Build and compare breadth-first search (BFS) and depth-first search (DFS)."
      ]
    },
    {
      "cell_type": "markdown",
      "metadata": {
        "id": "Er6nQ3-Gi96-",
        "colab_type": "text"
      },
      "source": [
        "# Problem Set 1"
      ]
    },
    {
      "cell_type": "markdown",
      "metadata": {
        "id": "BjFYI_CRDXzp",
        "colab_type": "text"
      },
      "source": [
        "## Part 1: Greedy Cow Transport\n",
        "\n",
        "One way of transporting cows is to always pick the heaviest cow that will fit onto the spaceship first. This is an example of a greedy algorithm. So if there are only 2 tons of free space on your spaceship, with one cow that's 3 tons and another that's 1 ton, the 1 ton cow will get put onto the spaceship.\n",
        "\n",
        "Implement a greedy algorithm for transporting the cows back across space in the function greedy_cow_transport. The function returns a list of lists, where each inner list represents a trip and contains the names of cows taken on that trip.\n",
        "\n",
        "## Assumptions:\n",
        "\n",
        "The order of the list of trips does not matter. That is, [[1,2],[3,4]] and [[3,4],[1,2]] are considered equivalent lists of trips.\n",
        "All the cows are between 0 and 100 tons in weight.\n",
        "All the cows have unique names.\n",
        "If multiple cows weigh the same amount, break ties arbitrarily.\n",
        "The spaceship has a cargo weight limit (in tons), which is passed into the function as a parameter.\n",
        "\n",
        "## Test Case\n",
        "limit = 10\n",
        "cows = {\"Jesse\": 6, \"Maybel\": 3, \"Callie\": 2, \"Maggie\": 5}.\n",
        "result = [[\"Jesse\", \"Maybel\"], [\"Maggie\", \"Callie\"]]."
      ]
    },
    {
      "cell_type": "code",
      "metadata": {
        "id": "DPoxC5fwOWQU",
        "colab_type": "code",
        "colab": {}
      },
      "source": [
        "cows = {\"Jesse\": 6, \"Maybel\": 3, \"Callie\": 2, \"Maggie\": 5}"
      ],
      "execution_count": 0,
      "outputs": []
    },
    {
      "cell_type": "code",
      "metadata": {
        "id": "k9ptTKAKjBOR",
        "colab_type": "code",
        "colab": {}
      },
      "source": [
        "def greedy_cow_transport(cows, limit = 10):\n",
        "    cows_copy = cows.copy()\n",
        "    cows_decreasing = sorted(cows_copy, key=cows_copy.get, reverse=True)\n",
        "    trips = []\n",
        "    while len(cows_copy) >= 1:\n",
        "        trip = []\n",
        "        limit_copy = limit\n",
        "        for name in cows_decreasing:\n",
        "            if cows_copy[name] <= limit_copy:\n",
        "                limit_copy -= cows[name]\n",
        "                trip.append(name)\n",
        "        for name in trip:\n",
        "            del cows_copy[name]\n",
        "            cows_decreasing.remove(name)\n",
        "        trips.append(trip)\n",
        "    return trips\n",
        "\n",
        "\n"
      ],
      "execution_count": 0,
      "outputs": []
    },
    {
      "cell_type": "code",
      "metadata": {
        "id": "Rf0ygZd1jCvl",
        "colab_type": "code",
        "colab": {
          "base_uri": "https://localhost:8080/",
          "height": 34
        },
        "outputId": "46303ce8-4667-44d4-fafc-b16f604324a2"
      },
      "source": [
        "greedy_cow_transport(cows)"
      ],
      "execution_count": 40,
      "outputs": [
        {
          "output_type": "execute_result",
          "data": {
            "text/plain": [
              "[['Jesse', 'Maybel'], ['Maggie', 'Callie']]"
            ]
          },
          "metadata": {
            "tags": []
          },
          "execution_count": 40
        }
      ]
    },
    {
      "cell_type": "markdown",
      "metadata": {
        "id": "Ahx_y9EnTK0X",
        "colab_type": "text"
      },
      "source": [
        "## Part 2\n",
        "\n",
        "Part 2: Brute Force Cow Transport\n",
        "0.0/20.0 points (graded)\n",
        "Another way to transport the cows is to look at every possible combination of trips and pick the best one. This is an example of a brute force algorithm.\n",
        "\n",
        "Implement a brute force algorithm to find the minimum number of trips needed to take all the cows across the universe in the function brute_force_cow_transport. The function returns a list of lists, where each inner list represents a trip and contains the names of cows taken on that trip.\n",
        "\n",
        "Notes:\n",
        "\n",
        "Make sure not to mutate the dictionary of cows!\n",
        "In order to enumerate all possible combinations of trips, you will want to work with set partitions. We have provided you with a helper function called get_partitions that generates all the set partitions for a set of cows. More details on this function are provided below.\n",
        "Assumptions:\n",
        "\n",
        "Assume that order doesn't matter. (1) [[1,2],[3,4]] and [[3,4],[1,2]] are considered equivalent lists of trips. (2) [[1,2],[3,4]] and [[2,1],[3,4]] are considered the same partitions of [1,2,3,4].\n",
        "You can assume that all the cows are between 0 and 100 tons in weight.\n",
        "All the cows have unique names.\n",
        "If multiple cows weigh the same amount, break ties arbitrarily.\n",
        "The spaceship has a cargo weight limit (in tons), which is passed into the function as a parameter.\n",
        "Helper function get_partitions in ps1_partitions.py:\n",
        "\n",
        "To generate all the possibilities for the brute force method, you will want to work with set partitions.\n",
        "\n",
        "For instance, all the possible 2-partitions of the list [1,2,3,4] are [[1,2],[3,4]], [[1,3],[2,4]], [[2,3],[1,4]], [[1],[2,3,4]], [[2],[1,3,4]], [[3],[1,2,4]], [[4],[1,2,3]].\n",
        "\n",
        "To help you with creating partitions, we have included a helper function get_partitions(L) that takes as input a list and returns a generator that contains all the possible partitions of this list, from 0-partitions to n-partitions, where n is the length of this list.\n",
        "\n",
        "You can review more on generators in the Lecture 2 Exercise 1. To use generators, you must iterate over the generator to retrieve the elements; you cannot index into a generator! For instance, the recommended way to call get_partitions on a list [1,2,3] is the following. Try it out in ps1_partitions.py to see what is printed!\n",
        "\n",
        "for partition in get_partitions([1,2,3]):\n",
        "    print(partition)\n",
        "Example:\n",
        "\n",
        "Suppose the spaceship has a cargo weight limit of 10 tons and the set of cows to transport is {\"Jesse\": 6, \"Maybel\": 3, \"Callie\": 2, \"Maggie\": 5}.\n",
        "\n",
        "The brute force algorithm will first try to fit them on only one trip, [\"Jesse\", \"Maybel\", \"Callie\", \"Maggie\"]. Since this trip contains 16 tons of cows, it is over the weight limit and does not work. Then the algorithm will try fitting them on all combinations of two trips. Suppose it first tries [[\"Jesse\", \"Maggie\"], [\"Maybel\", \"Callie\"]]. This solution will be rejected because Jesse and Maggie together are over the weight limit and cannot be on the same trip. The algorithm will continue trying two trip partitions until it finds one that works, such as [[\"Jesse\", \"Callie\"], [\"Maybel\", \"Maggie\"]].\n",
        "\n",
        "The final result is then [[\"Jesse\", \"Callie\"], [\"Maybel\", \"Maggie\"]]. Note that depending on which cow it tries first, the algorithm may find a different, optimal solution. Another optimal result could be [[\"Jesse\", \"Maybel\"],[\"Callie\", \"Maggie\"]]."
      ]
    },
    {
      "cell_type": "code",
      "metadata": {
        "id": "FTye1JPujCf_",
        "colab_type": "code",
        "colab": {}
      },
      "source": [
        "# Enter your code for the Brute Force Cow Transport here \n",
        "def brute_force_cow_transport(cows, limit):\n",
        "    for partition in get_partitions(cows.keys()):\n",
        "        flag = True\n",
        "        for trip in partition:\n",
        "            trip_load = 0\n",
        "            for name in trip:\n",
        "                trip_load += cows[name]\n",
        "            if trip_load > limit:\n",
        "                flag = False\n",
        "        if flag:\n",
        "            return partition"
      ],
      "execution_count": 0,
      "outputs": []
    },
    {
      "cell_type": "code",
      "metadata": {
        "id": "vEd3UxMmmW1F",
        "colab_type": "code",
        "colab": {
          "base_uri": "https://localhost:8080/",
          "height": 303
        },
        "outputId": "8921fcbb-5782-4032-f158-fcb9202682ed"
      },
      "source": [
        "brute_force_cow_transport({'Milkshake': 40, 'Lotus': 40, 'Miss Bella': 25, 'MooMoo': 50, 'Boo': 20, 'Horns': 25}, 100)"
      ],
      "execution_count": 42,
      "outputs": [
        {
          "output_type": "error",
          "ename": "NameError",
          "evalue": "ignored",
          "traceback": [
            "\u001b[0;31m---------------------------------------------------------------------------\u001b[0m",
            "\u001b[0;31mNameError\u001b[0m                                 Traceback (most recent call last)",
            "\u001b[0;32m<ipython-input-42-8dcb122e8505>\u001b[0m in \u001b[0;36m<module>\u001b[0;34m()\u001b[0m\n\u001b[0;32m----> 1\u001b[0;31m \u001b[0mbrute_force_cow_transport\u001b[0m\u001b[0;34m(\u001b[0m\u001b[0;34m{\u001b[0m\u001b[0;34m'Milkshake'\u001b[0m\u001b[0;34m:\u001b[0m \u001b[0;36m40\u001b[0m\u001b[0;34m,\u001b[0m \u001b[0;34m'Lotus'\u001b[0m\u001b[0;34m:\u001b[0m \u001b[0;36m40\u001b[0m\u001b[0;34m,\u001b[0m \u001b[0;34m'Miss Bella'\u001b[0m\u001b[0;34m:\u001b[0m \u001b[0;36m25\u001b[0m\u001b[0;34m,\u001b[0m \u001b[0;34m'MooMoo'\u001b[0m\u001b[0;34m:\u001b[0m \u001b[0;36m50\u001b[0m\u001b[0;34m,\u001b[0m \u001b[0;34m'Boo'\u001b[0m\u001b[0;34m:\u001b[0m \u001b[0;36m20\u001b[0m\u001b[0;34m,\u001b[0m \u001b[0;34m'Horns'\u001b[0m\u001b[0;34m:\u001b[0m \u001b[0;36m25\u001b[0m\u001b[0;34m}\u001b[0m\u001b[0;34m,\u001b[0m \u001b[0;36m100\u001b[0m\u001b[0;34m)\u001b[0m\u001b[0;34m\u001b[0m\u001b[0;34m\u001b[0m\u001b[0m\n\u001b[0m",
            "\u001b[0;32m<ipython-input-41-df9c215c7e1e>\u001b[0m in \u001b[0;36mbrute_force_cow_transport\u001b[0;34m(cows, limit)\u001b[0m\n\u001b[1;32m      1\u001b[0m \u001b[0;32mdef\u001b[0m \u001b[0mbrute_force_cow_transport\u001b[0m\u001b[0;34m(\u001b[0m\u001b[0mcows\u001b[0m\u001b[0;34m,\u001b[0m \u001b[0mlimit\u001b[0m\u001b[0;34m)\u001b[0m\u001b[0;34m:\u001b[0m\u001b[0;34m\u001b[0m\u001b[0;34m\u001b[0m\u001b[0m\n\u001b[0;32m----> 2\u001b[0;31m     \u001b[0;32mfor\u001b[0m \u001b[0mpartition\u001b[0m \u001b[0;32min\u001b[0m \u001b[0mget_partitions\u001b[0m\u001b[0;34m(\u001b[0m\u001b[0mcows\u001b[0m\u001b[0;34m.\u001b[0m\u001b[0mkeys\u001b[0m\u001b[0;34m(\u001b[0m\u001b[0;34m)\u001b[0m\u001b[0;34m)\u001b[0m\u001b[0;34m:\u001b[0m\u001b[0;34m\u001b[0m\u001b[0;34m\u001b[0m\u001b[0m\n\u001b[0m\u001b[1;32m      3\u001b[0m         \u001b[0mflag\u001b[0m \u001b[0;34m=\u001b[0m \u001b[0;32mTrue\u001b[0m\u001b[0;34m\u001b[0m\u001b[0;34m\u001b[0m\u001b[0m\n\u001b[1;32m      4\u001b[0m         \u001b[0;32mfor\u001b[0m \u001b[0mtrip\u001b[0m \u001b[0;32min\u001b[0m \u001b[0mpartition\u001b[0m\u001b[0;34m:\u001b[0m\u001b[0;34m\u001b[0m\u001b[0;34m\u001b[0m\u001b[0m\n\u001b[1;32m      5\u001b[0m             \u001b[0mtrip_load\u001b[0m \u001b[0;34m=\u001b[0m \u001b[0;36m0\u001b[0m\u001b[0;34m\u001b[0m\u001b[0;34m\u001b[0m\u001b[0m\n",
            "\u001b[0;31mNameError\u001b[0m: name 'get_partitions' is not defined"
          ]
        }
      ]
    },
    {
      "cell_type": "code",
      "metadata": {
        "id": "bQawD0sDmYds",
        "colab_type": "code",
        "colab": {}
      },
      "source": [
        "brute_force_cow_transport({'Betsy': 65, 'Buttercup': 72, 'Daisy': 50}, 75)"
      ],
      "execution_count": 0,
      "outputs": []
    },
    {
      "cell_type": "code",
      "metadata": {
        "id": "4ZlNPVR2mcLT",
        "colab_type": "code",
        "colab": {}
      },
      "source": [
        "brute_force_cow_transport({'Luna': 41, 'Betsy': 39, 'Buttercup': 11, 'Starlight': 54}, 145)"
      ],
      "execution_count": 0,
      "outputs": []
    },
    {
      "cell_type": "markdown",
      "metadata": {
        "id": "cyC5Dffxna_Y",
        "colab_type": "text"
      },
      "source": [
        "## Part 3\n",
        "\n"
      ]
    },
    {
      "cell_type": "code",
      "metadata": {
        "id": "xvj3AxD2naV2",
        "colab_type": "code",
        "colab": {}
      },
      "source": [
        ""
      ],
      "execution_count": 0,
      "outputs": []
    }
  ]
}