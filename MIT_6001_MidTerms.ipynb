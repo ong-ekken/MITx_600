{
  "nbformat": 4,
  "nbformat_minor": 0,
  "metadata": {
    "colab": {
      "name": "MIT_6001_MidTerms.ipynb",
      "provenance": [],
      "collapsed_sections": [],
      "toc_visible": true,
      "authorship_tag": "ABX9TyP+JDlaSycLDq9TgMvnIY6g",
      "include_colab_link": true
    },
    "kernelspec": {
      "name": "python3",
      "display_name": "Python 3"
    }
  },
  "cells": [
    {
      "cell_type": "markdown",
      "metadata": {
        "id": "view-in-github",
        "colab_type": "text"
      },
      "source": [
        "<a href=\"https://colab.research.google.com/github/yuhchian/MITx_6001x/blob/master/MIT_6001_MidTerms.ipynb\" target=\"_parent\"><img src=\"https://colab.research.google.com/assets/colab-badge.svg\" alt=\"Open In Colab\"/></a>"
      ]
    },
    {
      "cell_type": "markdown",
      "metadata": {
        "id": "ZyegLffFUoP4",
        "colab_type": "text"
      },
      "source": [
        "# MIT OCW 6.001x MidTerms\n",
        "\n",
        "As mentioned in the course guidelines, the course is about practicing and learning. The purpose of having my own answers here is for the sake of keeping track of my own learning, and to compare my answers with other better answers out there so we can all learn.\n",
        "So, if you have not already done the problem set questions on your own, please do not read further.\n",
        "Also, the below answers have been extensively formatted and might not work on the EdX grader if copied directly."
      ]
    },
    {
      "cell_type": "markdown",
      "metadata": {
        "id": "rtp-LHBKU8Om",
        "colab_type": "text"
      },
      "source": [
        "### Question 3"
      ]
    },
    {
      "cell_type": "code",
      "metadata": {
        "id": "sTaUcIG3VCcG",
        "colab_type": "code",
        "colab": {}
      },
      "source": [
        "def myLog(x, b):\n",
        "    '''\n",
        "    x: a positive integer\n",
        "    b: a positive integer; b >= 2\n",
        "\n",
        "    returns: log_b(x), or, the logarithm of x relative to a base b.\n",
        "    '''\n",
        "    # Your Code Here\n",
        "    if x < 1:\n",
        "        return -1\n",
        "    else:\n",
        "        print(x, b)\n",
        "        return myLog(x / b, b) + 1"
      ],
      "execution_count": 0,
      "outputs": []
    },
    {
      "cell_type": "markdown",
      "metadata": {
        "id": "UsEPqvKRjgC2",
        "colab_type": "text"
      },
      "source": [
        "### Question 4"
      ]
    },
    {
      "cell_type": "code",
      "metadata": {
        "id": "1truSduvjgTz",
        "colab_type": "code",
        "colab": {}
      },
      "source": [
        "def getSublists(L, n):\n",
        "    '''\n",
        "    L: list of integers\n",
        "    n: a positive integer; b >= 1\n",
        "\n",
        "    returns: a list containing sublists of L of length n that are in the same running order as they were in L.\n",
        "    '''\n",
        "    # Your Code Here\n",
        "    listofsublist = []\n",
        "    for i in range(len(L) - n + 1):\n",
        "        sublist = []\n",
        "        for m in range(n):\n",
        "            sublist.append(L[i+m])\n",
        "        listofsublist.append(sublist)\n",
        "    return listofsublist"
      ],
      "execution_count": 0,
      "outputs": []
    },
    {
      "cell_type": "markdown",
      "metadata": {
        "id": "fybNCY5Dj-YU",
        "colab_type": "text"
      },
      "source": [
        "### Question 5"
      ]
    },
    {
      "cell_type": "code",
      "metadata": {
        "id": "27UcxY3kk1C_",
        "colab_type": "code",
        "colab": {}
      },
      "source": [
        "def keysWithValue(aDict, target):\n",
        "    '''\n",
        "    aDict: a dictionary\n",
        "    target: an integer\n",
        "\n",
        "    returns: list of keys sorted in increasing order that point to value of target\n",
        "    '''\n",
        "    # Your code here  \n",
        "    output = []\n",
        "    for keys in aDict:\n",
        "        if aDict[keys] == target:\n",
        "            output.append(keys)\n",
        "    return sorted(output)"
      ],
      "execution_count": 0,
      "outputs": []
    },
    {
      "cell_type": "markdown",
      "metadata": {
        "id": "x2PjtZVTOde_",
        "colab_type": "text"
      },
      "source": [
        "### Question 6"
      ]
    },
    {
      "cell_type": "code",
      "metadata": {
        "id": "J4jXNg0iOkFm",
        "colab_type": "code",
        "colab": {}
      },
      "source": [
        "def sumDigits(N):\n",
        "    '''\n",
        "    N: a non-negative integer\n",
        "\n",
        "    returns: sum of the digits in N\n",
        "    '''\n",
        "    # Your code here\n",
        "    assert type(N) == int and N >= 0, \"N is not a non-negative integer\"\n",
        "    if N < 10:\n",
        "        return N\n",
        "    else:\n",
        "        return sumDigits(N // 10) + N % 10"
      ],
      "execution_count": 0,
      "outputs": []
    },
    {
      "cell_type": "markdown",
      "metadata": {
        "id": "dG6z8b-h-Huk",
        "colab_type": "text"
      },
      "source": [
        "### Question 7"
      ]
    },
    {
      "cell_type": "code",
      "metadata": {
        "id": "T5syiDPc-HQn",
        "colab_type": "code",
        "colab": {}
      },
      "source": [
        "def general_poly (L):\n",
        "    \"\"\" L, a list of numbers (n0, n1, n2, ... nk)\n",
        "    Returns a function, which when applied to a value x, returns the value \n",
        "    n0 * x^k + n1 * x^(k-1) + ... nk * x^0 \"\"\"\n",
        "    #YOUR CODE HERE\n",
        "    def g_poly(x):\n",
        "        output = 0\n",
        "        for n in range(len(L)):\n",
        "            output += L[-n-1] * x**n\n",
        "        return output\n",
        "\n",
        "    return g_poly\n"
      ],
      "execution_count": 0,
      "outputs": []
    }
  ]
}