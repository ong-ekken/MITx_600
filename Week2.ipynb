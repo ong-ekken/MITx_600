{
  "nbformat": 4,
  "nbformat_minor": 0,
  "metadata": {
    "colab": {
      "name": "Untitled0.ipynb",
      "provenance": [],
      "authorship_tag": "ABX9TyPLYbwKlPIVlPevrXgTgWrj",
      "include_colab_link": true
    },
    "kernelspec": {
      "name": "python3",
      "display_name": "Python 3"
    }
  },
  "cells": [
    {
      "cell_type": "markdown",
      "metadata": {
        "id": "view-in-github",
        "colab_type": "text"
      },
      "source": [
        "<a href=\"https://colab.research.google.com/github/yuhchian/MITx_6001x/blob/master/Week2.ipynb\" target=\"_parent\"><img src=\"https://colab.research.google.com/assets/colab-badge.svg\" alt=\"Open In Colab\"/></a>"
      ]
    },
    {
      "cell_type": "code",
      "metadata": {
        "id": "cj9ZW2nBUTlV",
        "colab_type": "code",
        "colab": {}
      },
      "source": [
        ""
      ],
      "execution_count": 0,
      "outputs": []
    },
    {
      "cell_type": "markdown",
      "metadata": {
        "id": "ZyegLffFUoP4",
        "colab_type": "text"
      },
      "source": [
        "# MIT OCW 6.001x\n",
        "As mentioned in the course guidelines, the course is about practicing and learning. The purpose of having my own answers here is for the sake of keeping track of my own learning, and to compare my answers with other better answers out there so we can all learn.\n",
        "So, if you have not already done the problem set questions on your own, please do not read further.\n",
        "Also, the below answers have been extensively formatted and likely will not work on the EdX grader."
      ]
    },
    {
      "cell_type": "markdown",
      "metadata": {
        "id": "g3Y3Q4N6U3Bf",
        "colab_type": "text"
      },
      "source": [
        "## Lecture Review Questions\n",
        "1. (So far~Bisection) Compare exhaustive guess and check, versus bisection search?\""
      ]
    },
    {
      "cell_type": "markdown",
      "metadata": {
        "id": "rtp-LHBKU8Om",
        "colab_type": "text"
      },
      "source": [
        "### Exercise"
      ]
    },
    {
      "cell_type": "code",
      "metadata": {
        "id": "sTaUcIG3VCcG",
        "colab_type": "code",
        "colab": {}
      },
      "source": [
        ""
      ],
      "execution_count": 0,
      "outputs": []
    }
  ]
}