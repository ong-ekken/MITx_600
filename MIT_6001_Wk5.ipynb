{
  "nbformat": 4,
  "nbformat_minor": 0,
  "metadata": {
    "colab": {
      "name": "MIT_6001_Wk5.ipynb",
      "provenance": [],
      "collapsed_sections": [],
      "toc_visible": true,
      "authorship_tag": "ABX9TyMCX2pwMdN13r51ZLIi6qWF",
      "include_colab_link": true
    },
    "kernelspec": {
      "name": "python3",
      "display_name": "Python 3"
    }
  },
  "cells": [
    {
      "cell_type": "markdown",
      "metadata": {
        "id": "view-in-github",
        "colab_type": "text"
      },
      "source": [
        "<a href=\"https://colab.research.google.com/github/yuhchian/MITx_6001x/blob/master/MIT_6001_Wk5.ipynb\" target=\"_parent\"><img src=\"https://colab.research.google.com/assets/colab-badge.svg\" alt=\"Open In Colab\"/></a>"
      ]
    },
    {
      "cell_type": "markdown",
      "metadata": {
        "id": "ZyegLffFUoP4",
        "colab_type": "text"
      },
      "source": [
        "# MIT OCW 6.001x Week 5\n",
        "\n",
        "As mentioned in the course guidelines, the course is about practicing and learning. The purpose of having my own answers here is for the sake of keeping track of my own learning, and to compare my answers with other better answers out there so we can all learn.\n",
        "So, if you have not already done the problem set questions on your own, please do not read further.\n",
        "Also, the below answers have been extensively formatted and might not work on the EdX grader if copied directly."
      ]
    },
    {
      "cell_type": "markdown",
      "metadata": {
        "id": "qKRfERr2fElF",
        "colab_type": "text"
      },
      "source": [
        "## Lecture Review Notes\n",
        "\n",
        "1. What are the three pieces crucial to every object?\n",
        "1. What is the difference between Class and instance?\n",
        "1. Why do we not include 'self' parameter when calling on the method?\n",
        "1. When variables are passed into Classes (and thus instances), are we passing in the value or the reference?\n",
        "1. What is information hiding? What are the merits and demerits to using getter and setter methods?\n",
        "1. What does @property do, and why is it relevant to the above issue?\n",
        "1. What are special 'dunder' methods? Name and explain each of them. \n",
        "1. What does the isinstance function do? Why do we need it?\n",
        "1. Explain the difference between \\_\\_str\\_\\_ and \\_\\_repr\\_\\_.\n",
        "1. Explain OOP and inheritance. What happens if an attribute cannot be found in a child (sub) class? What is the order of precedence (for example if two superclasses are used in the declaration -- class A(B, C, D)? (i.e. explain C3 linearization)\n",
        "1. Must we declare 'class A(object)' or can it be blank such as 'class A()'?\n",
        "1. Explain 'class variables' and how they can be used to give unique IDs. \n",
        "1. What does it mean to clean up the hierarchy?\n",
        "1. Explain the substitution principle. \n",
        "1. How do we use inherited methods? Can we return upperclass.method(), subclass.method(), self.method()? Can we return self.method() from within the \\_\\_init\\_\\_ method?\n",
        "1. Explain generator. What keyword do we use to define it? Why is it valuable?\n"
      ]
    },
    {
      "cell_type": "markdown",
      "metadata": {
        "id": "rtp-LHBKU8Om",
        "colab_type": "text"
      },
      "source": [
        "### Exercise Hand (only the definition of update method)"
      ]
    },
    {
      "cell_type": "code",
      "metadata": {
        "id": "sTaUcIG3VCcG",
        "colab_type": "code",
        "colab": {}
      },
      "source": [
        " def update(self, word):\n",
        "        \"\"\"\n",
        "        Does not assume that self.hand has all the letters in word.\n",
        "\n",
        "        Updates the hand: if self.hand does have all the letters to make\n",
        "        the word, modifies self.hand by using up the letters in the given word.\n",
        "\n",
        "        Returns True if the word was able to be made with the letter in\n",
        "        the hand; False otherwise.\n",
        "        \n",
        "        word: string\n",
        "        returns: Boolean (if the word was or was not made)\n",
        "        \"\"\"\n",
        "        # Your code here\n",
        "        # raise NotImplementedError()\n",
        "        temp = self.hand.copy()\n",
        "        for i in word:\n",
        "            if temp.get(i, 0):\n",
        "                temp[i] -= 1\n",
        "            else:    \n",
        "                return False\n",
        "        self.hand = temp\n",
        "        return True"
      ],
      "execution_count": 0,
      "outputs": []
    },
    {
      "cell_type": "markdown",
      "metadata": {
        "id": "UsEPqvKRjgC2",
        "colab_type": "text"
      },
      "source": [
        "### Exercise genPrimes"
      ]
    },
    {
      "cell_type": "code",
      "metadata": {
        "id": "1truSduvjgTz",
        "colab_type": "code",
        "colab": {}
      },
      "source": [
        "def genPrimes():\n",
        "    primes = []\n",
        "    num = 2         #initialised with 2\n",
        "    \n",
        "    # Run forever\n",
        "    while True:\n",
        "\n",
        "        # Reset flag\n",
        "        flag = True\n",
        "        \n",
        "        # If num is divisible by any prime,\n",
        "        for prime in primes:\n",
        "            if num % prime == 0:\n",
        "                flag = False\n",
        "        \n",
        "        # Add to list of primes and yield value\n",
        "        if flag:\n",
        "            primes.append(num)\n",
        "            yield num\n",
        "        \n",
        "        # Mechanism to consider only odd numbers\n",
        "        if num % 2 == 1:\n",
        "            num += 2\n",
        "        else:\n",
        "            num += 1\n",
        "    \n",
        "p = genPrimes()\n",
        "q = []"
      ],
      "execution_count": 0,
      "outputs": []
    },
    {
      "cell_type": "code",
      "metadata": {
        "id": "kLJdjLQlqYUy",
        "colab_type": "code",
        "colab": {
          "base_uri": "https://localhost:8080/",
          "height": 34
        },
        "outputId": "805df730-1b26-4b2f-bac0-6e18bb123b2e"
      },
      "source": [
        "q.append(next(p))\n",
        "print(q)"
      ],
      "execution_count": 72,
      "outputs": [
        {
          "output_type": "stream",
          "text": [
            "[2, 3, 5, 7, 11, 13, 17, 19, 23, 29, 31, 37, 41, 43, 47, 53, 59, 61, 67, 71, 73]\n"
          ],
          "name": "stdout"
        }
      ]
    },
    {
      "cell_type": "code",
      "metadata": {
        "id": "JKzXFcQCthde",
        "colab_type": "code",
        "colab": {
          "base_uri": "https://localhost:8080/",
          "height": 85
        },
        "outputId": "43c0a393-721c-491d-a0fb-2573d3ebf981"
      },
      "source": [
        "# Interesting example the TA took from SO to show the difference between the generator and list comprehension\n",
        "\n",
        "from time import time\n",
        "\n",
        "gen_start = time()\n",
        "print(sum(n for n in range(100000000)))\n",
        "gen_end = time()\n",
        "gen_time = gen_end - gen_start\n",
        "\n",
        "list_start = time()\n",
        "print(sum([n for n in range(100000000)]))\n",
        "list_end = time()\n",
        "list_time = list_end - list_start\n",
        "\n",
        "# generator is faster\n",
        "print(f'sum(n for n in range(10000000)) took {gen_time} secs')\n",
        "print(f'sum([n for n in range(10000000)]) took {list_time} secs')"
      ],
      "execution_count": 74,
      "outputs": [
        {
          "output_type": "stream",
          "text": [
            "4999999950000000\n",
            "4999999950000000\n",
            "sum(n for n in range(10000000)) took 5.308593273162842 secs\n",
            "sum([n for n in range(10000000)]) took 9.25979471206665 secs\n"
          ],
          "name": "stdout"
        }
      ]
    },
    {
      "cell_type": "markdown",
      "metadata": {
        "id": "fybNCY5Dj-YU",
        "colab_type": "text"
      },
      "source": [
        "### Question 5"
      ]
    },
    {
      "cell_type": "code",
      "metadata": {
        "id": "27UcxY3kk1C_",
        "colab_type": "code",
        "colab": {}
      },
      "source": [
        "def keysWithValue(aDict, target):\n",
        "    '''\n",
        "    aDict: a dictionary\n",
        "    target: an integer\n",
        "\n",
        "    returns: list of keys sorted in increasing order that point to value of target\n",
        "    '''\n",
        "    # Your code here  \n",
        "    output = []\n",
        "    for keys in aDict:\n",
        "        if aDict[keys] == target:\n",
        "            output.append(keys)\n",
        "    return sorted(output)"
      ],
      "execution_count": 0,
      "outputs": []
    },
    {
      "cell_type": "markdown",
      "metadata": {
        "id": "x2PjtZVTOde_",
        "colab_type": "text"
      },
      "source": [
        "### Question 6"
      ]
    },
    {
      "cell_type": "code",
      "metadata": {
        "id": "J4jXNg0iOkFm",
        "colab_type": "code",
        "colab": {}
      },
      "source": [
        "def sumDigits(N):\n",
        "    '''\n",
        "    N: a non-negative integer\n",
        "\n",
        "    returns: sum of the digits in N\n",
        "    '''\n",
        "    # Your code here\n",
        "    assert type(N) == int and N >= 0, \"N is not a non-negative integer\"\n",
        "    if N < 10:\n",
        "        return N\n",
        "    else:\n",
        "        return sumDigits(N // 10) + N % 10"
      ],
      "execution_count": 0,
      "outputs": []
    },
    {
      "cell_type": "markdown",
      "metadata": {
        "id": "dG6z8b-h-Huk",
        "colab_type": "text"
      },
      "source": [
        "### Question 7"
      ]
    },
    {
      "cell_type": "code",
      "metadata": {
        "id": "T5syiDPc-HQn",
        "colab_type": "code",
        "colab": {}
      },
      "source": [
        "def general_poly (L):\n",
        "    \"\"\" L, a list of numbers (n0, n1, n2, ... nk)\n",
        "    Returns a function, which when applied to a value x, returns the value \n",
        "    n0 * x^k + n1 * x^(k-1) + ... nk * x^0 \"\"\"\n",
        "    #YOUR CODE HERE\n",
        "    def g_poly(x):\n",
        "        output = 0\n",
        "        for n in range(len(L)):\n",
        "            output += L[-n-1] * x**n\n",
        "        return output\n",
        "\n",
        "    return g_poly\n"
      ],
      "execution_count": 0,
      "outputs": []
    }
  ]
}